{
 "cells": [
  {
   "cell_type": "code",
   "execution_count": 1,
   "id": "5224802c-6319-4359-90ba-9078b959dda3",
   "metadata": {
    "tags": []
   },
   "outputs": [
    {
     "name": "stdout",
     "output_type": "stream",
     "text": [
      "Looking in indexes: https://pypi.org/simple, https://pypi.ngc.nvidia.com\n",
      "Requirement already satisfied: roboflow in /home/yang.zhiyu/.local/lib/python3.9/site-packages (1.0.3)\n",
      "Requirement already satisfied: certifi==2022.12.7 in /home/yang.zhiyu/.local/lib/python3.9/site-packages (from roboflow) (2022.12.7)\n",
      "Requirement already satisfied: chardet==4.0.0 in /home/yang.zhiyu/miniconda3/envs/mm_env/lib/python3.9/site-packages (from roboflow) (4.0.0)\n",
      "Requirement already satisfied: cycler==0.10.0 in /home/yang.zhiyu/.local/lib/python3.9/site-packages (from roboflow) (0.10.0)\n",
      "Requirement already satisfied: idna==2.10 in /home/yang.zhiyu/.local/lib/python3.9/site-packages (from roboflow) (2.10)\n",
      "Requirement already satisfied: kiwisolver>=1.3.1 in /home/yang.zhiyu/miniconda3/envs/mm_env/lib/python3.9/site-packages (from roboflow) (1.4.5)\n",
      "Requirement already satisfied: matplotlib in /home/yang.zhiyu/miniconda3/envs/mm_env/lib/python3.9/site-packages (from roboflow) (3.8.0)\n",
      "Requirement already satisfied: numpy>=1.18.5 in /home/yang.zhiyu/.local/lib/python3.9/site-packages (from roboflow) (1.22.4)\n",
      "Requirement already satisfied: opencv-python>=4.1.2 in /home/yang.zhiyu/.local/lib/python3.9/site-packages (from roboflow) (4.7.0.72)\n",
      "Requirement already satisfied: Pillow>=7.1.2 in /home/yang.zhiyu/miniconda3/envs/mm_env/lib/python3.9/site-packages (from roboflow) (9.4.0)\n",
      "Requirement already satisfied: pyparsing==2.4.7 in /home/yang.zhiyu/.local/lib/python3.9/site-packages (from roboflow) (2.4.7)\n",
      "Requirement already satisfied: python-dateutil in /home/yang.zhiyu/miniconda3/envs/mm_env/lib/python3.9/site-packages (from roboflow) (2.8.2)\n",
      "Requirement already satisfied: python-dotenv in /home/yang.zhiyu/.local/lib/python3.9/site-packages (from roboflow) (1.0.0)\n",
      "Requirement already satisfied: requests in /home/yang.zhiyu/.local/lib/python3.9/site-packages (from roboflow) (2.28.2)\n",
      "Requirement already satisfied: six in /home/yang.zhiyu/miniconda3/envs/mm_env/lib/python3.9/site-packages (from roboflow) (1.16.0)\n",
      "Requirement already satisfied: urllib3>=1.26.6 in /home/yang.zhiyu/.local/lib/python3.9/site-packages (from roboflow) (1.26.15)\n",
      "Requirement already satisfied: wget in /home/yang.zhiyu/.local/lib/python3.9/site-packages (from roboflow) (3.2)\n",
      "Requirement already satisfied: tqdm>=4.41.0 in /home/yang.zhiyu/.local/lib/python3.9/site-packages (from roboflow) (4.65.2)\n",
      "Requirement already satisfied: PyYAML>=5.3.1 in /home/yang.zhiyu/.local/lib/python3.9/site-packages (from roboflow) (6.0.1)\n",
      "Requirement already satisfied: requests-toolbelt in /home/yang.zhiyu/.local/lib/python3.9/site-packages (from roboflow) (0.10.1)\n",
      "Requirement already satisfied: contourpy>=1.0.1 in /home/yang.zhiyu/miniconda3/envs/mm_env/lib/python3.9/site-packages (from matplotlib->roboflow) (1.1.1)\n",
      "Requirement already satisfied: fonttools>=4.22.0 in /home/yang.zhiyu/miniconda3/envs/mm_env/lib/python3.9/site-packages (from matplotlib->roboflow) (4.43.0)\n",
      "Requirement already satisfied: packaging>=20.0 in /home/yang.zhiyu/miniconda3/envs/mm_env/lib/python3.9/site-packages (from matplotlib->roboflow) (23.1)\n",
      "Requirement already satisfied: importlib-resources>=3.2.0 in /home/yang.zhiyu/.local/lib/python3.9/site-packages (from matplotlib->roboflow) (5.12.0)\n",
      "Requirement already satisfied: charset-normalizer<4,>=2 in /home/yang.zhiyu/miniconda3/envs/mm_env/lib/python3.9/site-packages (from requests->roboflow) (2.0.4)\n",
      "Requirement already satisfied: zipp>=3.1.0 in /home/yang.zhiyu/miniconda3/envs/mm_env/lib/python3.9/site-packages (from importlib-resources>=3.2.0->matplotlib->roboflow) (3.11.0)\n",
      "loading Roboflow workspace...\n",
      "loading Roboflow project...\n",
      "Downloading Dataset Version Zip in Forest-Fire-Panel-Tile-1 to coco-segmentation: 100% [229361 / 229361] bytes\n"
     ]
    },
    {
     "name": "stderr",
     "output_type": "stream",
     "text": [
      "Extracting Dataset Version Zip to Forest-Fire-Panel-Tile-1 in coco-segmentation:: 100%|██████████| 10/10 [00:00<00:00, 63.27it/s]\n"
     ]
    }
   ],
   "source": [
    "!pip install roboflow\n",
    "\n",
    "from roboflow import Roboflow\n",
    "rf = Roboflow(api_key=\"uZ059uALtKNidvB7BeHR\")\n",
    "project = rf.workspace(\"log-wildfire\").project(\"forest-fire-panel-tile\")\n",
    "version = project.version(1)\n",
    "dataset = version.download(\"coco-segmentation\")"
   ]
  },
  {
   "cell_type": "code",
   "execution_count": 2,
   "id": "edd6ad59-cce7-4be4-b708-60d562f40af6",
   "metadata": {
    "tags": []
   },
   "outputs": [],
   "source": [
    "from pathlib import Path\n",
    "import json\n",
    "import cv2\n",
    "import numpy as np\n",
    "from pycocotools.coco import COCO\n",
    "\n",
    "def coco_to_mmsegmentation(\n",
    "    annotations_file: str, output_annotations_file: str, output_masks_dir: str\n",
    "):\n",
    "    \"\"\"Convert json in [segmentation format](https://gradiant.github.io/ai-dataset-template/supported_tasks/#segmentation) to txt in [mmsegmentation format](https://mmsegmentation.readthedocs.io/en/latest/tutorials/new_dataset.html#reorganize-dataset-to-existing-format).\n",
    "\n",
    "    Args:\n",
    "        annotations_file:\n",
    "            path to json in [segmentation format](https://gradiant.github.io/ai-dataset-template/supported_tasks/#segmentation)\n",
    "        output_annotations_file:\n",
    "            path to write the txt in [mmsegmentation format](https://mmsegmentation.readthedocs.io/en/latest/tutorials/customize_datasets.html#customize-datasets-by-reorganizing-data)\n",
    "        output_masks_dir:\n",
    "            path where the masks generated from the annotations will be saved to.\n",
    "            A single `{file_name}.png` mask will be generated for each image.\n",
    "    \"\"\"\n",
    "\n",
    "    Path(output_annotations_file).parent.mkdir(parents=True, exist_ok=True)\n",
    "    Path(output_masks_dir).mkdir(parents=True, exist_ok=True)\n",
    "\n",
    "    print(f\"Loading annotations form {annotations_file}\")\n",
    "    annotations = json.load(open(annotations_file))\n",
    "\n",
    "    print(f\"Saving annotations to {output_annotations_file}\")\n",
    "    with open(output_annotations_file, \"w\") as f:\n",
    "        for image in annotations[\"images\"]:\n",
    "            filename = Path(image[\"file_name\"]).parent / Path(image[\"file_name\"]).stem\n",
    "            f.write(str(filename))\n",
    "            f.write(\"\\n\")\n",
    "\n",
    "    print(f\"Saving masks to {output_masks_dir}\")\n",
    "    coco_annotations = COCO(annotations_file)\n",
    "    for image_id, image_data in coco_annotations.imgs.items():\n",
    "        filename = image_data[\"file_name\"]\n",
    "\n",
    "        anns_ids = coco_annotations.getAnnIds(imgIds=image_id)\n",
    "        image_annotations = coco_annotations.loadAnns(anns_ids)\n",
    "\n",
    "        print(f\"Creating output mask for {filename}\")\n",
    "\n",
    "        output_mask = np.zeros(\n",
    "            (image_data[\"height\"], image_data[\"width\"]), dtype=np.uint8\n",
    "        )\n",
    "        for image_annotation in image_annotations:\n",
    "            category_id = image_annotation[\"category_id\"]\n",
    "            try:\n",
    "                category_mask = coco_annotations.annToMask(image_annotation)\n",
    "            except Exception as e:\n",
    "                print(e)\n",
    "                print(f\"Skipping {image_annotation}\")\n",
    "                continue\n",
    "            category_mask *= category_id\n",
    "            category_mask *= output_mask == 0\n",
    "            output_mask += category_mask\n",
    "\n",
    "        output_filename = Path(output_masks_dir) / Path(filename).with_suffix(\".png\")\n",
    "        output_filename.parent.mkdir(parents=True, exist_ok=True)\n",
    "\n",
    "        print(f\"Writting mask to {output_filename}\")\n",
    "        cv2.imwrite(str(output_filename), output_mask)"
   ]
  },
  {
   "cell_type": "code",
   "execution_count": 3,
   "id": "3db3df50-13d8-417e-b1a1-8547ffbfc096",
   "metadata": {
    "tags": []
   },
   "outputs": [],
   "source": [
    "!mkdir Forest-Fire-Panel-Tile-1/labels/ Forest-Fire-Panel-Tile-1/splits/ Forest-Fire-Panel-Tile-1/images/"
   ]
  },
  {
   "cell_type": "code",
   "execution_count": 4,
   "id": "46a04100-3a1c-4649-9629-308a5b4e6314",
   "metadata": {
    "tags": []
   },
   "outputs": [
    {
     "name": "stdout",
     "output_type": "stream",
     "text": [
      "Loading annotations form Forest-Fire-Panel-Tile-1/train/_annotations.coco.json\n",
      "Saving annotations to Forest-Fire-Panel-Tile-1/splits/train.txt\n",
      "Saving masks to Forest-Fire-Panel-Tile-1/labels/\n",
      "loading annotations into memory...\n",
      "Done (t=0.00s)\n",
      "creating index...\n",
      "index created!\n",
      "Creating output mask for 0_jpg.rf.212efdea0f69eaeda7ba253e3c0bac33.jpg\n",
      "Writting mask to Forest-Fire-Panel-Tile-1/labels/0_jpg.rf.212efdea0f69eaeda7ba253e3c0bac33.png\n",
      "Creating output mask for 0_jpg.rf.5afda1725ca7f119511f72c1004f8920.jpg\n",
      "Writting mask to Forest-Fire-Panel-Tile-1/labels/0_jpg.rf.5afda1725ca7f119511f72c1004f8920.png\n",
      "Creating output mask for 0_jpg.rf.27a7915f68c1125285823e6d0bb66a7c.jpg\n",
      "Writting mask to Forest-Fire-Panel-Tile-1/labels/0_jpg.rf.27a7915f68c1125285823e6d0bb66a7c.png\n",
      "Creating output mask for 0_jpg.rf.785715033271869e823a1562cd458020.jpg\n",
      "Writting mask to Forest-Fire-Panel-Tile-1/labels/0_jpg.rf.785715033271869e823a1562cd458020.png\n",
      "Creating output mask for 0_jpg.rf.cc0224a31d42b38e51f168e74291b045.jpg\n",
      "Writting mask to Forest-Fire-Panel-Tile-1/labels/0_jpg.rf.cc0224a31d42b38e51f168e74291b045.png\n",
      "Creating output mask for 0_jpg.rf.2c9bd5660eaf3ed428876dc06a51a238.jpg\n",
      "Writting mask to Forest-Fire-Panel-Tile-1/labels/0_jpg.rf.2c9bd5660eaf3ed428876dc06a51a238.png\n"
     ]
    }
   ],
   "source": [
    "coco_to_mmsegmentation(\"Forest-Fire-Panel-Tile-1/train/_annotations.coco.json\", \"Forest-Fire-Panel-Tile-1/splits/train.txt\", \"Forest-Fire-Panel-Tile-1/labels/\")"
   ]
  },
  {
   "cell_type": "code",
   "execution_count": 6,
   "id": "3222fb68-a677-4a90-bc1d-3cdfb4354217",
   "metadata": {
    "tags": []
   },
   "outputs": [],
   "source": [
    "# define dataset root and directory for images and annotations\n",
    "data_root = 'Forest-Fire-Panel-Tile-1'\n",
    "img_dir = 'train'\n",
    "ann_dir = 'labels'\n",
    "new_ann_dir = 'rgb_labels'\n",
    "# define class and palette for better visualization\n",
    "classes = ('BG', 'Dead Tree')\n",
    "palette = [[0, 0, 0], [10, 20, 255]]"
   ]
  },
  {
   "cell_type": "code",
   "execution_count": 9,
   "id": "a8c39563-92b3-48f3-9e91-1389207f4340",
   "metadata": {
    "tags": []
   },
   "outputs": [],
   "source": [
    "import os\n",
    "import os.path as osp\n",
    "import numpy as np\n",
    "from PIL import Image\n",
    "import matplotlib.pyplot as plt\n",
    "\n",
    "# convert dataset annotation to semantic segmentation map\n",
    "# for file in mmengine.scandir(osp.join(data_root, ann_dir), suffix='.regions.txt'):\n",
    "#   seg_map = np.loadtxt(osp.join(data_root, ann_dir, file)).astype(np.uint8)\n",
    "#   seg_img = Image.fromarray(seg_map).convert('P')\n",
    "#   seg_img.putpalette(np.array(palette, dtype=np.uint8))\n",
    "#   seg_img.save(osp.join(data_root, ann_dir, file.replace('.regions.txt',\n",
    "#                                                          '.png')))\n",
    "for file in os.listdir(osp.join(data_root, ann_dir)):\n",
    "    if file.endswith('.png'):\n",
    "        seg_map = Image.open(osp.join(data_root, ann_dir, file))\n",
    "        seg_img = seg_map.convert('P')\n",
    "        seg_img.putpalette(np.array(palette, dtype=np.uint8))\n",
    "        seg_img.save(osp.join(data_root, new_ann_dir, file))"
   ]
  },
  {
   "cell_type": "code",
   "execution_count": null,
   "id": "a25ccd4b-0dc3-482c-afd2-49bde0d2739a",
   "metadata": {},
   "outputs": [],
   "source": []
  }
 ],
 "metadata": {
  "kernelspec": {
   "display_name": "Python 3 (ipykernel)",
   "language": "python",
   "name": "python3"
  },
  "language_info": {
   "codemirror_mode": {
    "name": "ipython",
    "version": 3
   },
   "file_extension": ".py",
   "mimetype": "text/x-python",
   "name": "python",
   "nbconvert_exporter": "python",
   "pygments_lexer": "ipython3",
   "version": "3.9.18"
  }
 },
 "nbformat": 4,
 "nbformat_minor": 5
}
